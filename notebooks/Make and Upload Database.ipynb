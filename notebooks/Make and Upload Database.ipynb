{
 "cells": [
  {
   "cell_type": "code",
   "execution_count": null,
   "metadata": {},
   "outputs": [],
   "source": [
    "%cd ../.."
   ]
  },
  {
   "cell_type": "code",
   "execution_count": null,
   "metadata": {},
   "outputs": [],
   "source": [
    "import os\n",
    "\n",
    "from mmk.data.factory import make_root_db\n",
    "from mmk.data.api import Database\n",
    "from mmk.utils import upload_database"
   ]
  },
  {
   "cell_type": "code",
   "execution_count": null,
   "metadata": {},
   "outputs": [],
   "source": [
    "make_root_db(\"a_cappella.h5\", \"nessun_dorma/data/a_cappella\")"
   ]
  },
  {
   "cell_type": "code",
   "execution_count": null,
   "metadata": {
    "scrolled": true
   },
   "outputs": [],
   "source": [
    "db = Database(\"a_cappella.h5\")\n",
    "db.metadata"
   ]
  },
  {
   "cell_type": "code",
   "execution_count": null,
   "metadata": {},
   "outputs": [],
   "source": [
    "api_token = os.environ.get(\"KTONAL_NEPTUNE_API_TOKEN\")\n",
    "\n",
    "upload_database(db, api_token, \"k-tonal/data\", \"Arie-Nessun-Dorma\")"
   ]
  },
  {
   "cell_type": "code",
   "execution_count": null,
   "metadata": {},
   "outputs": [],
   "source": []
  },
  {
   "cell_type": "code",
   "execution_count": null,
   "metadata": {
    "scrolled": true
   },
   "outputs": [],
   "source": [
    "import h5py\n",
    "import pandas as pd \n",
    "import os\n",
    "\n",
    "def format_filename(d, fn=None):\n",
    "    fn = fn.split(\".\")[0]\n",
    "    parts = fn.split(\"_\")\n",
    "    singer = parts[0]\n",
    "    vowel = parts[-1]\n",
    "    technique = d.split(\"/\")[-1]\n",
    "    motif = \"_\".join([x for x in parts[1:-1] if x not in technique])\n",
    "    return singer, motif, technique, vowel\n",
    "\n",
    "labels = pd.DataFrame([format_filename(*os.path.split(t.name)) \n",
    "                      for t in db.metadata[[\"name\"]].itertuples()],\n",
    "                     columns=[\"singer\", \"motif\", \"technique\", 'vowel'])\n",
    "db.save_dataframe(\"labels\", labels)\n",
    "\n",
    "db = Database(\"a_cappella.h5\")\n",
    "db.labels"
   ]
  }
 ],
 "metadata": {
  "kernelspec": {
   "display_name": "Python 3",
   "language": "python",
   "name": "python3"
  },
  "language_info": {
   "codemirror_mode": {
    "name": "ipython",
    "version": 3
   },
   "file_extension": ".py",
   "mimetype": "text/x-python",
   "name": "python",
   "nbconvert_exporter": "python",
   "pygments_lexer": "ipython3",
   "version": "3.7.6"
  }
 },
 "nbformat": 4,
 "nbformat_minor": 4
}
