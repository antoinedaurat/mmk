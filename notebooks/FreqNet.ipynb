{
 "cells": [
  {
   "cell_type": "code",
   "execution_count": 1,
   "metadata": {},
   "outputs": [
    {
     "name": "stdout",
     "output_type": "stream",
     "text": [
      "/home/antoine/Gdrive/Autoencoders\n"
     ]
    }
   ],
   "source": [
    "%cd ../.."
   ]
  },
  {
   "cell_type": "markdown",
   "metadata": {},
   "source": [
    "### connect to your Gdrive"
   ]
  },
  {
   "cell_type": "code",
   "execution_count": null,
   "metadata": {},
   "outputs": [],
   "source": [
    "from google.colab import drive\n",
    "drive.mount('/gdrive', force_remount=True)\n",
    "\n",
    "# go to the parent folder of mmk/\n",
    "\n",
    "%cd /gdrive/My\\ Drive/"
   ]
  },
  {
   "cell_type": "markdown",
   "metadata": {},
   "source": [
    "### Install `mmk` and its dependencies"
   ]
  },
  {
   "cell_type": "code",
   "execution_count": null,
   "metadata": {},
   "outputs": [],
   "source": [
    "!git clone https://github.com/antoinedaurat/mmk.git\n",
    "!pip install -r mmk/requirements.txt"
   ]
  },
  {
   "cell_type": "markdown",
   "metadata": {},
   "source": [
    "### Imports"
   ]
  },
  {
   "cell_type": "code",
   "execution_count": 2,
   "metadata": {
    "scrolled": true
   },
   "outputs": [
    {
     "name": "stdout",
     "output_type": "stream",
     "text": [
      "mmk initialized with device: cuda\n"
     ]
    }
   ],
   "source": [
    "%matplotlib inline\n",
    "import matplotlib.pyplot as plt\n",
    "import IPython.display as ipd\n",
    "plt.rcParams['figure.figsize'] = (20, 6)\n",
    "import torch\n",
    "import numpy as np\n",
    "import os\n",
    "\n",
    "# class defining the class of FreqNet models and the dictionary to subclass it\n",
    "from mmk.models.freqnet import FreqNet, layer_funcs\n",
    "\n",
    "# generate function \n",
    "from mmk.modules.generate import generate\n",
    "\n",
    "# data utils\n",
    "from mmk.data import make_root_db, Database\n",
    "\n",
    "# debug, interact\n",
    "from mmk.utils import show, audio\n"
   ]
  },
  {
   "cell_type": "markdown",
   "metadata": {},
   "source": [
    "### Data"
   ]
  },
  {
   "cell_type": "code",
   "execution_count": 3,
   "metadata": {
    "scrolled": true
   },
   "outputs": [
    {
     "data": {
      "text/html": [
       "<div>\n",
       "<style scoped>\n",
       "    .dataframe tbody tr th:only-of-type {\n",
       "        vertical-align: middle;\n",
       "    }\n",
       "\n",
       "    .dataframe tbody tr th {\n",
       "        vertical-align: top;\n",
       "    }\n",
       "\n",
       "    .dataframe thead th {\n",
       "        text-align: right;\n",
       "    }\n",
       "</style>\n",
       "<table border=\"1\" class=\"dataframe\">\n",
       "  <thead>\n",
       "    <tr style=\"text-align: right;\">\n",
       "      <th></th>\n",
       "      <th>start</th>\n",
       "      <th>stop</th>\n",
       "      <th>duration</th>\n",
       "      <th>name</th>\n",
       "    </tr>\n",
       "  </thead>\n",
       "  <tbody>\n",
       "    <tr>\n",
       "      <th>0</th>\n",
       "      <td>0</td>\n",
       "      <td>16111</td>\n",
       "      <td>16111</td>\n",
       "      <td>nessun_dorma/data/arie/Luciano Pavarotti  Una ...</td>\n",
       "    </tr>\n",
       "    <tr>\n",
       "      <th>1</th>\n",
       "      <td>16111</td>\n",
       "      <td>28565</td>\n",
       "      <td>12454</td>\n",
       "      <td>nessun_dorma/data/arie/Purcell - Dido  Aeneas ...</td>\n",
       "    </tr>\n",
       "    <tr>\n",
       "      <th>2</th>\n",
       "      <td>28565</td>\n",
       "      <td>46757</td>\n",
       "      <td>18192</td>\n",
       "      <td>nessun_dorma/data/arie/42 La Fatal Pietra Sovr...</td>\n",
       "    </tr>\n",
       "    <tr>\n",
       "      <th>3</th>\n",
       "      <td>46757</td>\n",
       "      <td>55167</td>\n",
       "      <td>8410</td>\n",
       "      <td>nessun_dorma/data/arie/39 Nessun Dorma</td>\n",
       "    </tr>\n",
       "    <tr>\n",
       "      <th>4</th>\n",
       "      <td>55167</td>\n",
       "      <td>65052</td>\n",
       "      <td>9885</td>\n",
       "      <td>nessun_dorma/data/arie/27 Ah Si, Ben Mio...Di ...</td>\n",
       "    </tr>\n",
       "    <tr>\n",
       "      <th>5</th>\n",
       "      <td>65052</td>\n",
       "      <td>72372</td>\n",
       "      <td>7320</td>\n",
       "      <td>nessun_dorma/data/arie/39 Ohime! Morir Mi Sento!</td>\n",
       "    </tr>\n",
       "    <tr>\n",
       "      <th>6</th>\n",
       "      <td>72372</td>\n",
       "      <td>84061</td>\n",
       "      <td>11689</td>\n",
       "      <td>nessun_dorma/data/arie/Anna Bolena, Act 2 Al d...</td>\n",
       "    </tr>\n",
       "    <tr>\n",
       "      <th>7</th>\n",
       "      <td>84061</td>\n",
       "      <td>99905</td>\n",
       "      <td>15844</td>\n",
       "      <td>nessun_dorma/data/arie/La Traviata - Atto III,...</td>\n",
       "    </tr>\n",
       "    <tr>\n",
       "      <th>8</th>\n",
       "      <td>99905</td>\n",
       "      <td>116349</td>\n",
       "      <td>16444</td>\n",
       "      <td>nessun_dorma/data/arie/Maria Callas Verdi - La...</td>\n",
       "    </tr>\n",
       "    <tr>\n",
       "      <th>9</th>\n",
       "      <td>116349</td>\n",
       "      <td>122853</td>\n",
       "      <td>6504</td>\n",
       "      <td>nessun_dorma/data/arie/Elina Garanca - Deh tu ...</td>\n",
       "    </tr>\n",
       "    <tr>\n",
       "      <th>10</th>\n",
       "      <td>122853</td>\n",
       "      <td>136962</td>\n",
       "      <td>14109</td>\n",
       "      <td>nessun_dorma/data/arie/33 Sola, Perduta, Abban...</td>\n",
       "    </tr>\n",
       "    <tr>\n",
       "      <th>11</th>\n",
       "      <td>136962</td>\n",
       "      <td>150569</td>\n",
       "      <td>13607</td>\n",
       "      <td>nessun_dorma/data/arie/43 O Terra Addio</td>\n",
       "    </tr>\n",
       "    <tr>\n",
       "      <th>12</th>\n",
       "      <td>150569</td>\n",
       "      <td>175260</td>\n",
       "      <td>24691</td>\n",
       "      <td>nessun_dorma/data/arie/30 Allmacht`ge Jungfrau...</td>\n",
       "    </tr>\n",
       "    <tr>\n",
       "      <th>13</th>\n",
       "      <td>175260</td>\n",
       "      <td>184835</td>\n",
       "      <td>9575</td>\n",
       "      <td>nessun_dorma/data/arie/41 A Lui Vivo, La Tomba...</td>\n",
       "    </tr>\n",
       "    <tr>\n",
       "      <th>14</th>\n",
       "      <td>184835</td>\n",
       "      <td>211851</td>\n",
       "      <td>27016</td>\n",
       "      <td>nessun_dorma/data/arie/55 C_Est Toi!</td>\n",
       "    </tr>\n",
       "    <tr>\n",
       "      <th>15</th>\n",
       "      <td>211851</td>\n",
       "      <td>224686</td>\n",
       "      <td>12835</td>\n",
       "      <td>nessun_dorma/data/arie/Prendi, Quest_è l_imma...</td>\n",
       "    </tr>\n",
       "    <tr>\n",
       "      <th>16</th>\n",
       "      <td>224686</td>\n",
       "      <td>236076</td>\n",
       "      <td>11390</td>\n",
       "      <td>nessun_dorma/data/arie/26 E Lucevan Le Stelle</td>\n",
       "    </tr>\n",
       "    <tr>\n",
       "      <th>17</th>\n",
       "      <td>236076</td>\n",
       "      <td>245118</td>\n",
       "      <td>9042</td>\n",
       "      <td>nessun_dorma/data/arie/44 Su Me... Morente... ...</td>\n",
       "    </tr>\n",
       "    <tr>\n",
       "      <th>18</th>\n",
       "      <td>245118</td>\n",
       "      <td>260696</td>\n",
       "      <td>15578</td>\n",
       "      <td>nessun_dorma/data/arie/31 Che Avvien_</td>\n",
       "    </tr>\n",
       "    <tr>\n",
       "      <th>19</th>\n",
       "      <td>260696</td>\n",
       "      <td>279761</td>\n",
       "      <td>19065</td>\n",
       "      <td>nessun_dorma/data/arie/29 Liebestod</td>\n",
       "    </tr>\n",
       "    <tr>\n",
       "      <th>20</th>\n",
       "      <td>279761</td>\n",
       "      <td>294002</td>\n",
       "      <td>14241</td>\n",
       "      <td>nessun_dorma/data/arie/40 Spirto Del Nume</td>\n",
       "    </tr>\n",
       "    <tr>\n",
       "      <th>21</th>\n",
       "      <td>294002</td>\n",
       "      <td>301718</td>\n",
       "      <td>7716</td>\n",
       "      <td>nessun_dorma/data/arie/Rigoletto - Vho inganna...</td>\n",
       "    </tr>\n",
       "    <tr>\n",
       "      <th>22</th>\n",
       "      <td>301718</td>\n",
       "      <td>315399</td>\n",
       "      <td>13681</td>\n",
       "      <td>nessun_dorma/data/arie/Con onor muore Maria Ca...</td>\n",
       "    </tr>\n",
       "    <tr>\n",
       "      <th>23</th>\n",
       "      <td>315399</td>\n",
       "      <td>326959</td>\n",
       "      <td>11560</td>\n",
       "      <td>nessun_dorma/data/arie/Placido Domingo - Mamma...</td>\n",
       "    </tr>\n",
       "    <tr>\n",
       "      <th>24</th>\n",
       "      <td>326959</td>\n",
       "      <td>338418</td>\n",
       "      <td>11459</td>\n",
       "      <td>nessun_dorma/data/arie/38 Aria_ _Che farò sen...</td>\n",
       "    </tr>\n",
       "    <tr>\n",
       "      <th>25</th>\n",
       "      <td>338418</td>\n",
       "      <td>350712</td>\n",
       "      <td>12294</td>\n",
       "      <td>nessun_dorma/data/arie/1 - O Terra - Caballe</td>\n",
       "    </tr>\n",
       "  </tbody>\n",
       "</table>\n",
       "</div>"
      ],
      "text/plain": [
       "     start    stop  duration  \\\n",
       "0        0   16111     16111   \n",
       "1    16111   28565     12454   \n",
       "2    28565   46757     18192   \n",
       "3    46757   55167      8410   \n",
       "4    55167   65052      9885   \n",
       "5    65052   72372      7320   \n",
       "6    72372   84061     11689   \n",
       "7    84061   99905     15844   \n",
       "8    99905  116349     16444   \n",
       "9   116349  122853      6504   \n",
       "10  122853  136962     14109   \n",
       "11  136962  150569     13607   \n",
       "12  150569  175260     24691   \n",
       "13  175260  184835      9575   \n",
       "14  184835  211851     27016   \n",
       "15  211851  224686     12835   \n",
       "16  224686  236076     11390   \n",
       "17  236076  245118      9042   \n",
       "18  245118  260696     15578   \n",
       "19  260696  279761     19065   \n",
       "20  279761  294002     14241   \n",
       "21  294002  301718      7716   \n",
       "22  301718  315399     13681   \n",
       "23  315399  326959     11560   \n",
       "24  326959  338418     11459   \n",
       "25  338418  350712     12294   \n",
       "\n",
       "                                                 name  \n",
       "0   nessun_dorma/data/arie/Luciano Pavarotti  Una ...  \n",
       "1   nessun_dorma/data/arie/Purcell - Dido  Aeneas ...  \n",
       "2   nessun_dorma/data/arie/42 La Fatal Pietra Sovr...  \n",
       "3              nessun_dorma/data/arie/39 Nessun Dorma  \n",
       "4   nessun_dorma/data/arie/27 Ah Si, Ben Mio...Di ...  \n",
       "5    nessun_dorma/data/arie/39 Ohime! Morir Mi Sento!  \n",
       "6   nessun_dorma/data/arie/Anna Bolena, Act 2 Al d...  \n",
       "7   nessun_dorma/data/arie/La Traviata - Atto III,...  \n",
       "8   nessun_dorma/data/arie/Maria Callas Verdi - La...  \n",
       "9   nessun_dorma/data/arie/Elina Garanca - Deh tu ...  \n",
       "10  nessun_dorma/data/arie/33 Sola, Perduta, Abban...  \n",
       "11            nessun_dorma/data/arie/43 O Terra Addio  \n",
       "12  nessun_dorma/data/arie/30 Allmacht`ge Jungfrau...  \n",
       "13  nessun_dorma/data/arie/41 A Lui Vivo, La Tomba...  \n",
       "14               nessun_dorma/data/arie/55 C_Est Toi!  \n",
       "15  nessun_dorma/data/arie/Prendi, Quest_è l_imma...  \n",
       "16      nessun_dorma/data/arie/26 E Lucevan Le Stelle  \n",
       "17  nessun_dorma/data/arie/44 Su Me... Morente... ...  \n",
       "18              nessun_dorma/data/arie/31 Che Avvien_  \n",
       "19                nessun_dorma/data/arie/29 Liebestod  \n",
       "20          nessun_dorma/data/arie/40 Spirto Del Nume  \n",
       "21  nessun_dorma/data/arie/Rigoletto - Vho inganna...  \n",
       "22  nessun_dorma/data/arie/Con onor muore Maria Ca...  \n",
       "23  nessun_dorma/data/arie/Placido Domingo - Mamma...  \n",
       "24  nessun_dorma/data/arie/38 Aria_ _Che farò sen...  \n",
       "25       nessun_dorma/data/arie/1 - O Terra - Caballe  "
      ]
     },
     "execution_count": 3,
     "metadata": {},
     "output_type": "execute_result"
    }
   ],
   "source": [
    "# where you have audio files \n",
    "my_music_folder = \"nessun_dorma/data/arie/\"\n",
    "\n",
    "# the file with your data :\n",
    "my_db = \".arie_mmk.h5\"\n",
    "\n",
    "if not os.path.exists(my_db):\n",
    "    make_root_db(my_db, my_music_folder)\n",
    "\n",
    "db = Database(my_db)\n",
    "\n",
    "db.metadata"
   ]
  },
  {
   "cell_type": "markdown",
   "metadata": {},
   "source": [
    "# Model's Definition and Training\n",
    "\n",
    "## FreqNet's Parameters :\n",
    "\n",
    "### Layer Functions\n",
    "\n",
    "`FreqNet` is, similar to Wavenet, a model with stacked dilated convolution layer. The layer function of FreqNet allows you to specify different options for the implemententation of those stacked dilated convolution layers that result in models with different properties.\n",
    "\n",
    "Options are :\n",
    "- `strict` can be `True` or `False`. It specifies whether each layer is to be defined as an autoregressive function or not. Originally, Wavenet considers the whole network to be such a function. Accordingly, for an input of the length of wavenet's receptive-field, wavenet outputs a single (future) time-step. Setting `strict` to `True`, makes each layer outputs a (future) time-step, which results in an output of `#of-layers` time-steps for an input with length equal to the receptive-field. \n",
    "- `accum_outputs` adds residual to the layer's definition. Possible values are `[-1, 0, 1]` for residuals aligned to the left, no residuals, and residuals aligned to the right respectively.\n",
    "- `concat_outputs` also takes `[-1, 0, 1]` as possible values for left-, None and right-concatenation respectively. Since convolution layers outputs fewer time-steps then they recieve, this option concatenates some of the input (left or right) to make the output of the layer have the same length as the input.\n",
    "- `pad_input` also takes `[-1, 0, 1]` as possible values for left-, None and right-padding of the input.\n",
    "\n",
    "`layer_funcs` is a `dict` holding pre-defined layer functions. Just take a look at this object to see some possible combinations of these options.\n",
    "\n",
    "\n",
    "### Other Parameters\n",
    "\n",
    "- `database` must be the `Database` object holding the data you want to use for training.\n",
    "- `train_set` must be a `pandas.DataFrame` specifying some subset of the data.\n",
    "- `gate_c`, `residuals_c` and `skips_c` are the number of channels to use for each of this convolutions\n",
    "- `conv_kwargs` is a `dict` of parameters for the `torch.nn.Conv1d` objects.\n",
    "- `lf` is the layer_function. It should be a `partial` packed in a tuple (otherwise it mysteriously disappear from the hyperparameters...)\n",
    "- `layers` is a tuple of integers. Each integers `k` defines a block of `k` layers that will have `2**k` time-steps in its receptive-field.\n",
    "- `learn_padding` lets you make the input padding learnable whenever you use `pad-input` in the layer-function.\n",
    "- `lr` is the max learning rate. Values between 1e-3 and 1e-4 work in most cases.\n",
    "- `batch_size` and `sequence_length` lets you specify `N` and `S` for batches of shape `(N x S x D)` aka (number of sequences, number of steps per sequence, time-step dimensionality)\n",
    "- `root_dir`, `name` and `version` specify where to store the model files. The path to all the files will be `root_dir/name/version`. If you don't specify a `version` and `overwrite` is `False` a new folder is added in `root_dir/name`\n",
    "- `era_duration` is the frequency at which you want to make training checkpoints. `era_duration=50` means you'll have one checkpoint every 50 epochs. "
   ]
  },
  {
   "cell_type": "code",
   "execution_count": 4,
   "metadata": {
    "scrolled": true
   },
   "outputs": [
    {
     "name": "stderr",
     "output_type": "stream",
     "text": [
      "GPU available: True, used: True\n",
      "TPU available: False, using: 0 TPU cores\n",
      "CUDA_VISIBLE_DEVICES: [0]\n",
      "\n",
      "  | Name   | Type             | Params\n",
      "--------------------------------------------\n",
      "0 | inpt   | GatedLinearInput | 1 M   \n",
      "1 | blocks | ModuleList       | 6 M   \n",
      "2 | outpt  | AbsLinearOutput  | 525 K \n",
      "/home/antoine/anaconda3/lib/python3.7/site-packages/pytorch_lightning/utilities/distributed.py:25: UserWarning: The dataloader, train dataloader, does not have many workers which may be a bottleneck. Consider increasing the value of the `num_workers` argument` (try 16 which is the number of cpus on this machine) in the `DataLoader` init to improve performance.\n",
      "  warnings.warn(*args, **kwargs)\n"
     ]
    },
    {
     "data": {
      "application/vnd.jupyter.widget-view+json": {
       "model_id": "252ecc52659e44cbbab537f9fd9b58c6",
       "version_major": 2,
       "version_minor": 0
      },
      "text/plain": [
       "HBox(children=(FloatProgress(value=1.0, bar_style='info', description='Training', layout=Layout(flex='2'), max…"
      ]
     },
     "metadata": {},
     "output_type": "display_data"
    },
    {
     "name": "stdout",
     "output_type": "stream",
     "text": [
      "initialized directory: mmk_test_model/mmk_test_model/v0/\n"
     ]
    },
    {
     "data": {
      "application/vnd.jupyter.widget-view+json": {
       "model_id": "ef9b5713fc37463690bfe51b283c4ae7",
       "version_major": 2,
       "version_minor": 0
      },
      "text/plain": [
       "HBox(children=(FloatProgress(value=0.0, layout=Layout(flex='2')), HTML(value='')), layout=Layout(display='inli…"
      ]
     },
     "metadata": {},
     "output_type": "display_data"
    },
    {
     "name": "stdout",
     "output_type": "stream",
     "text": [
      "\n",
      "Training finished after 0 days 0 hours 0 mins 7 seconds\n"
     ]
    },
    {
     "name": "stderr",
     "output_type": "stream",
     "text": [
      "/home/antoine/anaconda3/lib/python3.7/site-packages/pytorch_lightning/utilities/distributed.py:25: UserWarning: Detected KeyboardInterrupt, attempting graceful shutdown...\n",
      "  warnings.warn(*args, **kwargs)\n"
     ]
    },
    {
     "data": {
      "text/plain": [
       "1"
      ]
     },
     "execution_count": 4,
     "metadata": {},
     "output_type": "execute_result"
    }
   ],
   "source": [
    "fnet = FreqNet(\n",
    "    # data :\n",
    "    input_feature=db.fft,\n",
    "    train_set=db.metadata.iloc[[0, ]],\n",
    "    input_dim=db.fft.dim,\n",
    "    # model architecture\n",
    "    model_dim=512,\n",
    "    conv_kwargs=dict(groups=1),\n",
    "    lf=layer_funcs[\"residuals_left\"],\n",
    "    layers=(int(np.log2(16)),),\n",
    "    learn_padding=False,\n",
    "    # training\n",
    "    lr=5e-4,\n",
    "    batch_size=64,\n",
    "    sequence_length=64,\n",
    "    max_epochs=100,\n",
    "    # file-system\n",
    "    overwrite=False,\n",
    "    name=\"mmk_test_model\",\n",
    "    root_dir=\"mmk_test_model/\",\n",
    "    era_duration=50,\n",
    ")\n",
    "\n",
    "trainer = fnet.get_trainer()\n",
    "trainer.fit(fnet)"
   ]
  },
  {
   "cell_type": "markdown",
   "metadata": {},
   "source": [
    "## Generate from trained model"
   ]
  },
  {
   "cell_type": "code",
   "execution_count": null,
   "metadata": {},
   "outputs": [],
   "source": [
    "root_dir=\"mmk_test_model/\"\n",
    "name=\"mmk_test_model\"\n",
    "version = str(0)\n",
    "epoch = None\n",
    "\n",
    "# load the checkpoint\n",
    "fnet = FreqNet.load(FreqNet, root_dir + name + \"/v\" + version + \"/\", epoch)\n",
    "\n",
    "input_length = 64\n",
    "n_steps = 512\n",
    "# pick a random input slice from the trainset\n",
    "piece = fnet.train_set.sample(1)\n",
    "input_start = np.random.randint(piece.start.min(), piece.stop.max(), 1)[0]\n",
    "\n",
    "inpt = fnet.database.fft[input_start:input_start+input_length]\n",
    "\n",
    "if torch.cuda.is_available():\n",
    "    fnet.to(\"cuda\")\n",
    "\n",
    "generated = generate(fnet, inpt, n_steps, *fnet.generation_slices())\n",
    "\n",
    "audio(generated.T)\n",
    "show(generated.T)\n"
   ]
  },
  {
   "cell_type": "code",
   "execution_count": null,
   "metadata": {},
   "outputs": [],
   "source": []
  },
  {
   "cell_type": "code",
   "execution_count": null,
   "metadata": {},
   "outputs": [],
   "source": []
  },
  {
   "cell_type": "code",
   "execution_count": null,
   "metadata": {},
   "outputs": [],
   "source": []
  },
  {
   "cell_type": "code",
   "execution_count": null,
   "metadata": {},
   "outputs": [],
   "source": []
  },
  {
   "cell_type": "code",
   "execution_count": null,
   "metadata": {},
   "outputs": [],
   "source": []
  }
 ],
 "metadata": {
  "kernelspec": {
   "display_name": "Python 3",
   "language": "python",
   "name": "python3"
  },
  "language_info": {
   "codemirror_mode": {
    "name": "ipython",
    "version": 3
   },
   "file_extension": ".py",
   "mimetype": "text/x-python",
   "name": "python",
   "nbconvert_exporter": "python",
   "pygments_lexer": "ipython3",
   "version": "3.7.6"
  },
  "pycharm": {
   "stem_cell": {
    "cell_type": "raw",
    "metadata": {
     "collapsed": false
    },
    "source": []
   }
  }
 },
 "nbformat": 4,
 "nbformat_minor": 4
}
