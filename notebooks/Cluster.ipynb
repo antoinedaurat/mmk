{
 "cells": [
  {
   "cell_type": "code",
   "execution_count": null,
   "metadata": {},
   "outputs": [],
   "source": [
    "%matplotlib inline\n",
    "import matplotlib.pyplot as plt\n",
    "plt.rcParams['figure.figsize'] = (20, 6)\n",
    "import numpy as np\n",
    "\n",
    "from mmk.utils import audio, show\n",
    "from mmk.extract.segment import from_recurrence_matrix\n",
    "from mmk.data import Database, make_root_db\n",
    "\n",
    "from librosa.util import sync\n",
    "from sklearn.neighbors import NearestNeighbors\n",
    "from sklearn.metrics import pairwise_distances as pwd\n",
    "import sklearn.cluster as C"
   ]
  },
  {
   "cell_type": "code",
   "execution_count": null,
   "metadata": {},
   "outputs": [],
   "source": [
    "# where you have audio files \n",
    "my_music_folder = \"not a folder\"\n",
    "\n",
    "# the file with your data :\n",
    "my_db = \"not a db.h5\"\n",
    "\n",
    "if not os.path.exists(my_db):\n",
    "    make_root_db(my_db, my_music_folder)\n",
    "    \n",
    "db = Database(my_db)\n",
    "piece = db.metadata.iloc[[0]]\n",
    "\n",
    "X = db.fft.get(piece).T\n",
    "X.shape"
   ]
  },
  {
   "cell_type": "markdown",
   "metadata": {},
   "source": [
    "## Segment X"
   ]
  },
  {
   "cell_type": "code",
   "execution_count": null,
   "metadata": {},
   "outputs": [],
   "source": [
    "segments = from_recurrence_matrix(X.T, \n",
    "                                 L=6,\n",
    "                                 k=None,\n",
    "                                 sym=True,\n",
    "                                 bandwidth=1.,\n",
    "                                 thresh=0.2,\n",
    "                                 min_dur=4)\n",
    "\n",
    "# aggregate each segment\n",
    "Sx = sync(X, segments.stop.values, aggregate=np.median, axis=0)\n",
    "\n",
    "Sx.shape, segments.describe()"
   ]
  },
  {
   "cell_type": "markdown",
   "metadata": {},
   "source": [
    "## Clustering Methods"
   ]
  },
  {
   "cell_type": "code",
   "execution_count": null,
   "metadata": {
    "scrolled": false
   },
   "outputs": [],
   "source": [
    "def distance_matrices(X, metric=\"euclidean\", n_neighbors=1, radius=1e-3):\n",
    "    Dx = pwd(X, X, metric=metric, n_jobs=-1)\n",
    "    NN = NearestNeighbors(n_neighbors=n_neighbors, radius=radius, metric=\"precomputed\", n_jobs=-1)\n",
    "    NN.fit(Dx)\n",
    "    Kx = NN.kneighbors_graph(n_neighbors=n_neighbors, mode='connectivity')\n",
    "    Rx = NN.radius_neighbors_graph(radius=radius, mode='connectivity')\n",
    "    return Dx, Kx, Rx\n",
    "\n",
    "\n",
    "class ArgMax(object):\n",
    "    def __init__(self):\n",
    "        self.labels_ = None\n",
    "        \n",
    "    def fit(self, X):\n",
    "        maxes = np.argmax(X, axis=1)\n",
    "        uniques, self.labels_ = np.unique(maxes, return_inverse=True)\n",
    "        return self\n",
    "\n",
    "\n",
    "def cluster(X, Dx=None, n_clusters=128, metric=\"euclidean\", estimator=\"argmax\"):\n",
    "\n",
    "    estimators = {\n",
    "\n",
    "        \"argmax\": ArgMax(),\n",
    "\n",
    "        \"kmeans\": C.KMeans(n_clusters=n_clusters,\n",
    "                           n_init=4,\n",
    "                           max_iter=200,\n",
    "                           n_jobs=-1),\n",
    "\n",
    "         \"spectral\": C.SpectralClustering(n_clusters=n_clusters, \n",
    "                                          affinity=\"nearest_neighbors\",\n",
    "                                          n_neighbors=32,\n",
    "                                          assign_labels=\"discretize\",\n",
    "                                          n_jobs=-1),\n",
    "\n",
    "        \"agglo_ward\": C.AgglomerativeClustering(\n",
    "                                        n_clusters=n_clusters,   \n",
    "                                        affinity=\"euclidean\",\n",
    "                                        compute_full_tree='auto',\n",
    "                                        linkage='ward',\n",
    "                                        distance_threshold=None,),\n",
    "\n",
    "        \"agglo_single\": C.AgglomerativeClustering(\n",
    "                                    n_clusters=n_clusters,   \n",
    "                                    affinity=\"precomputed\",\n",
    "                                    compute_full_tree='auto',\n",
    "                                    linkage='single',\n",
    "                                    distance_threshold=None,),\n",
    "\n",
    "        \"agglo_complete\": C.AgglomerativeClustering(\n",
    "                                n_clusters=n_clusters,   \n",
    "                                affinity=\"precomputed\",\n",
    "                                compute_full_tree='auto',\n",
    "                                linkage='complete',\n",
    "                                distance_threshold=None,)\n",
    "\n",
    "    }\n",
    "        \n",
    "    needs_distances = estimator in {\"agglo_single\", \"agglo_complete\"}\n",
    "    \n",
    "    if needs_distances:\n",
    "        if Dx is None:\n",
    "            Dx, _, _ = distance_matrices(X, metric=metric)\n",
    "        X_ = Dx\n",
    "    else:\n",
    "        X_ = X\n",
    "        \n",
    "    cls = estimators[estimator]\n",
    "    cls.fit(X_)\n",
    "    \n",
    "    return cls.labels_"
   ]
  },
  {
   "cell_type": "markdown",
   "metadata": {},
   "source": [
    "### Ordering functions"
   ]
  },
  {
   "cell_type": "code",
   "execution_count": null,
   "metadata": {},
   "outputs": [],
   "source": [
    "def label_order(labels):\n",
    "    \"\"\"return a dictionary where each labels_index (key) is paired \n",
    "    with its sorted appearance indices (values)\"\"\"\n",
    "    l_set, indices = np.unique(labels, return_inverse=True)\n",
    "    rg = np.arange(labels.size)\n",
    "    return {label: rg[indices == label] for label in l_set}\n",
    "\n",
    "def replace_by_neighbor(Kx):\n",
    "    \"\"\"replace each time_index by one of its neighbor (at random)\"\"\"\n",
    "    order = []\n",
    "    for i in range(Kx.shape[0]):\n",
    "        order += [np.random.choice(Kx[i].A.nonzero()[1], 1)[0]]\n",
    "    return np.r_[order]\n",
    "\n",
    "def replace_by_label(labels):\n",
    "    \"\"\"replace each time_index by an other index having the same label (at random)\"\"\"\n",
    "    l_order = label_order(labels)\n",
    "    order = []\n",
    "    for i in range(labels.size):\n",
    "        candidates = l_order[labels[i]]\n",
    "        order += [np.random.choice(candidates, 1)[0]]\n",
    "    return np.r_[order]\n",
    "\n",
    "def segment_shuffle(segments, sampling_rate=1.):\n",
    "    \"\"\"shuffle each segment internally while preserving length and relative order.\n",
    "    The parameter `sampling_rate` controls how much of each segment is sampled\"\"\"\n",
    "    N = len(segments)\n",
    "    order = []\n",
    "    for i in range(N):\n",
    "        s_i = np.arange(segments.iloc[i, 0].item(), segments.iloc[i, 1].item())\n",
    "        np.random.shuffle(s_i)\n",
    "        order += [np.random.choice(s_i, int(len(s_i) * sampling_rate), replace=sampling_rate > 1.)]\n",
    "    return np.concatenate(order)"
   ]
  },
  {
   "cell_type": "markdown",
   "metadata": {},
   "source": [
    "## Compute Distances, Neighbors and Clusters"
   ]
  },
  {
   "cell_type": "code",
   "execution_count": null,
   "metadata": {},
   "outputs": [],
   "source": [
    "Dx, Kx, Rx = distance_matrices(X, metric=\"euclidean\", n_neighbors=8, radius=2.)\n",
    "labels = cluster(X, Dx=Dx, n_clusters=64, estimator=\"spectral\")\n",
    "\n",
    "# show the distribution of distances\n",
    "plt.hist(Dx.flat[:], bins=X.shape[0]//4, density=True, alpha=.65)\n",
    "plt.title(\"Distances Densities\")\n",
    "\n",
    "\n",
    "plt.figure()\n",
    "plt.hist(labels, bins=len(set(labels)), color=\"green\", alpha=.65)\n",
    "plt.title(\"Cluster's Densities\")\n",
    "None"
   ]
  },
  {
   "cell_type": "markdown",
   "metadata": {},
   "source": [
    "## Re-Order X by Labels/Neighbors/etc..."
   ]
  },
  {
   "cell_type": "code",
   "execution_count": null,
   "metadata": {
    "scrolled": true
   },
   "outputs": [],
   "source": [
    "label_o = label_order(labels)\n",
    "by_neighb = replace_by_neighbor(Kx)\n",
    "by_label = replace_by_label(labels)\n",
    "seg_shuff = segment_shuffle(segments)\n",
    "\n",
    "for k in label_o.keys():\n",
    "    if len(label_o[k]) <= 1: # this throws error in griffinlim...\n",
    "        continue\n",
    "    if len(label_o[k]) > 100: # discard small neighborhoods\n",
    "        print(\"label\", k)\n",
    "        audio(X[label_o[k]].T)\n",
    "    \n",
    "print(\"by_neighb\")\n",
    "audio(X[by_neighb].T)\n",
    "\n",
    "print(\"by_label\")\n",
    "audio(X[by_label].T)\n",
    "\n",
    "print(\"segment_shuffle\")\n",
    "audio(X[seg_shuff].T)\n"
   ]
  },
  {
   "cell_type": "code",
   "execution_count": null,
   "metadata": {},
   "outputs": [],
   "source": []
  },
  {
   "cell_type": "code",
   "execution_count": null,
   "metadata": {},
   "outputs": [],
   "source": []
  },
  {
   "cell_type": "code",
   "execution_count": null,
   "metadata": {},
   "outputs": [],
   "source": []
  },
  {
   "cell_type": "code",
   "execution_count": null,
   "metadata": {},
   "outputs": [],
   "source": []
  },
  {
   "cell_type": "code",
   "execution_count": null,
   "metadata": {},
   "outputs": [],
   "source": []
  },
  {
   "cell_type": "code",
   "execution_count": null,
   "metadata": {},
   "outputs": [],
   "source": []
  },
  {
   "cell_type": "code",
   "execution_count": null,
   "metadata": {},
   "outputs": [],
   "source": []
  },
  {
   "cell_type": "code",
   "execution_count": null,
   "metadata": {},
   "outputs": [],
   "source": []
  },
  {
   "cell_type": "code",
   "execution_count": null,
   "metadata": {},
   "outputs": [],
   "source": []
  }
 ],
 "metadata": {
  "kernelspec": {
   "display_name": "Python 3",
   "language": "python",
   "name": "python3"
  },
  "language_info": {
   "codemirror_mode": {
    "name": "ipython",
    "version": 3
   },
   "file_extension": ".py",
   "mimetype": "text/x-python",
   "name": "python",
   "nbconvert_exporter": "python",
   "pygments_lexer": "ipython3",
   "version": "3.7.6"
  }
 },
 "nbformat": 4,
 "nbformat_minor": 4
}
