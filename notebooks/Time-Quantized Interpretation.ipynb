{
 "cells": [
  {
   "cell_type": "code",
   "execution_count": null,
   "metadata": {},
   "outputs": [],
   "source": [
    "%matplotlib inline\n",
    "import matplotlib.pyplot as plt\n",
    "import IPython.display as ipd\n",
    "plt.rcParams['figure.figsize'] = (20, 6)\n",
    "import numpy as np\n",
    "\n",
    "# data utils\n",
    "from mmk.data import make_root_db, Database\n",
    "\n",
    "# debug, interact\n",
    "from mmk.utils import show, audio\n",
    "\n",
    "# segmenting function\n",
    "from mmk.extract.segment import from_recurrence_matrix"
   ]
  },
  {
   "cell_type": "markdown",
   "metadata": {},
   "source": [
    "### Stretch Function"
   ]
  },
  {
   "cell_type": "code",
   "execution_count": null,
   "metadata": {},
   "outputs": [],
   "source": [
    "from scipy.interpolate import RectBivariateSpline as RBS\n",
    "\n",
    "def stretch(S, ratio):\n",
    "    if S.shape[1] <= 1 or S.shape[0] <= 1:\n",
    "        return S\n",
    "    time_indices = np.linspace(0, S.shape[1]-1, int(np.rint(S.shape[1]/ratio)))\n",
    "    mag, phase = S, None\n",
    "    spline = RBS(np.arange(S.shape[0]), np.arange(S.shape[1]), mag)\n",
    "    interp = spline.ev(np.arange(S.shape[0])[:, None], time_indices)\n",
    "    return interp\n"
   ]
  },
  {
   "cell_type": "markdown",
   "metadata": {},
   "source": [
    "### Data"
   ]
  },
  {
   "cell_type": "code",
   "execution_count": null,
   "metadata": {
    "scrolled": true
   },
   "outputs": [],
   "source": [
    "# where you have audio files \n",
    "my_music_folder = \"gould/\"\n",
    "\n",
    "# the file with your data :\n",
    "my_db = \"gould.h5\"\n",
    "\n",
    "if not os.path.exists(my_db):\n",
    "    make_root_db(my_db, my_music_folder)\n",
    "\n",
    "db = Database(my_db)\n",
    "\n",
    "db.metadata"
   ]
  },
  {
   "cell_type": "markdown",
   "metadata": {},
   "source": [
    "### Select and Segment a Piece"
   ]
  },
  {
   "cell_type": "code",
   "execution_count": null,
   "metadata": {},
   "outputs": [],
   "source": [
    "piece = db.metadata.iloc[[0]]\n",
    "\n",
    "X = db.fft.get(piece).T\n",
    "\n",
    "segments = from_recurrence_matrix(X,\n",
    "                                 L=6,\n",
    "                                 k=None,\n",
    "                                 sym=True,\n",
    "                                 bandwidth=1.,\n",
    "                                 thresh=0.2,\n",
    "                                 min_dur=4)\n",
    "segments.describe()"
   ]
  },
  {
   "cell_type": "markdown",
   "metadata": {},
   "source": [
    "### Quantize segments' durations to some multiple"
   ]
  },
  {
   "cell_type": "code",
   "execution_count": null,
   "metadata": {},
   "outputs": [],
   "source": [
    "def nearest_multiple(x, m):\n",
    "    \"\"\"\n",
    "    quantize a sequence x to a given modulo m\n",
    "    \"\"\"\n",
    "    return (m * np.maximum(np.rint(x / m), 1)).astype(np.int)\n",
    "\n",
    "durs = segments.durations_\n",
    "# use the mean duration as multiple\n",
    "mean_dur = int(durs.mean())\n",
    "\n",
    "q_durs = nearest_multiple(durs, mean_dur)"
   ]
  },
  {
   "cell_type": "markdown",
   "metadata": {},
   "source": [
    "### Stretch segments according to their new durations"
   ]
  },
  {
   "cell_type": "code",
   "execution_count": null,
   "metadata": {},
   "outputs": [],
   "source": [
    "new = []\n",
    "for i, seg_slice in enumerate(segments.slices(time_axis=1)):\n",
    "    x = X[seg_slice]\n",
    "    new += [stretch(x, (durs[i] / q_durs[i]))]\n",
    "    \n",
    "new = np.concatenate(new, axis=1)\n",
    "\n",
    "show(new)\n",
    "audio(new)"
   ]
  },
  {
   "cell_type": "code",
   "execution_count": null,
   "metadata": {},
   "outputs": [],
   "source": []
  },
  {
   "cell_type": "code",
   "execution_count": null,
   "metadata": {},
   "outputs": [],
   "source": []
  },
  {
   "cell_type": "code",
   "execution_count": null,
   "metadata": {},
   "outputs": [],
   "source": []
  },
  {
   "cell_type": "code",
   "execution_count": null,
   "metadata": {},
   "outputs": [],
   "source": []
  },
  {
   "cell_type": "code",
   "execution_count": null,
   "metadata": {},
   "outputs": [],
   "source": []
  }
 ],
 "metadata": {
  "kernelspec": {
   "display_name": "Python 3",
   "language": "python",
   "name": "python3"
  },
  "language_info": {
   "codemirror_mode": {
    "name": "ipython",
    "version": 3
   },
   "file_extension": ".py",
   "mimetype": "text/x-python",
   "name": "python",
   "nbconvert_exporter": "python",
   "pygments_lexer": "ipython3",
   "version": "3.7.6"
  }
 },
 "nbformat": 4,
 "nbformat_minor": 4
}
