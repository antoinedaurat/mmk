{
 "cells": [
  {
   "cell_type": "markdown",
   "metadata": {
    "pycharm": {
     "name": "#%% md\n"
    }
   },
   "source": [
    "### Install `mmk` and its dependencies"
   ]
  },
  {
   "cell_type": "code",
   "execution_count": null,
   "metadata": {},
   "outputs": [],
   "source": [
    "!git clone https://github.com/antoinedaurat/mmk.git\n",
    "!pip install -r mmk/requirements.txt"
   ]
  },
  {
   "cell_type": "markdown",
   "metadata": {},
   "source": [
    "### load the api token of your neptune account"
   ]
  },
  {
   "cell_type": "code",
   "execution_count": null,
   "metadata": {
    "pycharm": {
     "name": "#%%\n"
    }
   },
   "outputs": [],
   "source": [
    "from getpass import getpass\n",
    "api_token = getpass('Enter your private Neptune API token: ')"
   ]
  },
  {
   "cell_type": "code",
   "execution_count": null,
   "metadata": {},
   "outputs": [],
   "source": [
    "%cd .."
   ]
  },
  {
   "cell_type": "markdown",
   "metadata": {},
   "source": [
    "### Imports"
   ]
  },
  {
   "cell_type": "code",
   "execution_count": null,
   "metadata": {
    "scrolled": true
   },
   "outputs": [],
   "source": [
    "%matplotlib inline\n",
    "import matplotlib.pyplot as plt\n",
    "import IPython.display as ipd\n",
    "plt.rcParams['figure.figsize'] = (20, 6)\n",
    "import torch\n",
    "import numpy as np\n",
    "import os\n",
    "import sys\n",
    "\n",
    "sys.path.pop(0)\n",
    "sys.path.pop(0)\n",
    "print(sys.path)\n",
    "\n",
    "# class defining the class of FreqNet models and the dictionary to subclass it\n",
    "from mmk.models.freqnet import FreqNetModel, layer_funcs\n",
    "from mmk.kit import get_trainer\n",
    "from mmk.models.freqnet import FreqNet\n",
    "\n",
    "# generate function \n",
    "from mmk.modules.generate import generate\n",
    "\n",
    "# data utils\n",
    "from mmk.data import Database\n",
    "\n",
    "# debug, interact\n",
    "from mmk.utils import show, audio"
   ]
  },
  {
   "cell_type": "markdown",
   "metadata": {
    "pycharm": {
     "name": "#%% md\n"
    }
   },
   "source": [
    "### download some data and load it here"
   ]
  },
  {
   "cell_type": "code",
   "execution_count": null,
   "metadata": {
    "pycharm": {
     "name": "#%%\n"
    },
    "scrolled": true
   },
   "outputs": [],
   "source": [
    "db_name = \"../gould.h5\"\n",
    "# download_database(api_token, project_name=\"k-tonal/data\", experiment_id=\"DAT-1\", database_name=db_name)\n",
    "db = Database(db_name)\n",
    "db.metadata"
   ]
  },
  {
   "cell_type": "markdown",
   "metadata": {},
   "source": [
    "# Model's Definition and Training\n",
    "\n",
    "## FreqNet's Parameters :\n",
    "\n",
    "### Layer Functions\n",
    "\n",
    "`FreqNet` is, similar to Wavenet, a model with stacked dilated convolution layer. The layer function of FreqNet allows you to specify different options for the implemententation of those stacked dilated convolution layers that result in models with different properties.\n",
    "\n",
    "Options are :\n",
    "- `strict` can be `True` or `False`. It specifies whether each layer is to be defined as an autoregressive function or not. Originally, Wavenet considers the whole network to be such a function. Accordingly, for an input of the length of wavenet's receptive-field, wavenet outputs a single (future) time-step. Setting `strict` to `True`, makes each layer outputs a (future) time-step, which results in an output of `#of-layers` time-steps for an input with length equal to the receptive-field. \n",
    "- `accum_outputs` adds residual to the layer's definition. Possible values are `[-1, 0, 1]` for residuals aligned to the left, no residuals, and residuals aligned to the right respectively.\n",
    "- `concat_outputs` also takes `[-1, 0, 1]` as possible values for left-, None and right-concatenation respectively. Since convolution layers outputs fewer time-steps then they recieve, this option concatenates some of the input (left or right) to make the output of the layer have the same length as the input.\n",
    "- `pad_input` also takes `[-1, 0, 1]` as possible values for left-, None and right-padding of the input.\n",
    "\n",
    "`layer_funcs` is a `dict` holding pre-defined layer functions. Just take a look at this object to see some possible combinations of these options.\n",
    "\n",
    "\n",
    "### Other Parameters\n",
    "\n",
    "- `database` must be the `Database` object holding the data you want to use for training.\n",
    "- `train_set` must be a `pandas.DataFrame` specifying some subset of the data.\n",
    "- `gate_c`, `residuals_c` and `skips_c` are the number of channels to use for each of this convolutions\n",
    "- `conv_kwargs` is a `dict` of parameters for the `torch.nn.Conv1d` objects.\n",
    "- `lf` is the layer_function. It should be a `partial` packed in a tuple (otherwise it mysteriously disappear from the hyperparameters...)\n",
    "- `layers` is a tuple of integers. Each integers `k` defines a block of `k` layers that will have `2**k` time-steps in its receptive-field.\n",
    "- `learn_padding` lets you make the input padding learnable whenever you use `pad-input` in the layer-function.\n",
    "- `lr` is the max learning rate. Values between 1e-3 and 1e-4 work in most cases.\n",
    "- `batch_size` and `sequence_length` lets you specify `N` and `S` for batches of shape `(N x S x D)` aka (number of sequences, number of steps per sequence, time-step dimensionality)\n",
    "- `root_dir`, `name` and `version` specify where to store the model files. The path to all the files will be `root_dir/name/version`. If you don't specify a `version` and `overwrite` is `False` a new folder is added in `root_dir/name`\n",
    "- `era_duration` is the frequency at which you want to make training checkpoints. `era_duration=50` means you'll have one checkpoint every 50 epochs. "
   ]
  },
  {
   "cell_type": "code",
   "execution_count": null,
   "metadata": {
    "scrolled": false
   },
   "outputs": [],
   "source": [
    "fnet = FreqNet(\n",
    "    inputs=db.fft.get(db.metadata.iloc[[0, ]]),\n",
    "    batch_size=64,\n",
    "    input_seq_length=64,\n",
    "    to_gpu=True,\n",
    "    splits=[.8, .2],\n",
    "    input_dim=db.fft.shape[-1],\n",
    "    model_dim=512,\n",
    "    conv_kwargs=dict(groups=1),\n",
    "    lf=layer_funcs[\"residuals_left\"],\n",
    "    layers=(int(np.log2(16)),),\n",
    "    max_lr=5e-4,\n",
    "    betas=(.9, .9),\n",
    "    div_factor=3.,\n",
    "    final_div_factor=1.,\n",
    "    pct_start=.25,\n",
    "    cycle_momentum=False,\n",
    ")\n",
    "\n",
    "trainer = get_trainer(\n",
    "    root_dir=\"freqnet_test\", \n",
    "    version=None,\n",
    "    epochs=[1,],\n",
    "    max_epochs=3,\n",
    ")\n",
    "\n",
    "trainer.fit(fnet, )"
   ]
  },
  {
   "cell_type": "code",
   "execution_count": null,
   "metadata": {
    "scrolled": false
   },
   "outputs": [],
   "source": [
    "FreqNet.load_from_checkpoint(\"freqnet_test/states/epoch=1.ckpt\")"
   ]
  },
  {
   "cell_type": "code",
   "execution_count": null,
   "metadata": {},
   "outputs": [],
   "source": [
    "fnet.state_dict()"
   ]
  },
  {
   "cell_type": "markdown",
   "metadata": {},
   "source": [
    "### upload your model to neptune"
   ]
  },
  {
   "cell_type": "code",
   "execution_count": null,
   "metadata": {
    "pycharm": {
     "name": "#%%\n"
    }
   },
   "outputs": [],
   "source": [
    "upload_model(fnet, api_token, \"k-tonal/model-upload-test\")"
   ]
  },
  {
   "cell_type": "markdown",
   "metadata": {
    "pycharm": {
     "name": "#%% md\n"
    }
   },
   "source": [
    "### Either load a checkpoint ..."
   ]
  },
  {
   "cell_type": "code",
   "execution_count": null,
   "metadata": {
    "pycharm": {
     "name": "#%%\n"
    }
   },
   "outputs": [],
   "source": [
    "root_dir=\"mmk_test_model/\"\n",
    "name=\"mmk_test_model\"\n",
    "version = str(0)\n",
    "epoch = None\n",
    "\n",
    "# load the checkpoint\n",
    "fnet = FreqNet.load(FreqNet, root_dir + name + \"/v\" + version + \"/\", epoch)"
   ]
  },
  {
   "cell_type": "markdown",
   "metadata": {},
   "source": [
    "### ... or download a model from neptune"
   ]
  },
  {
   "cell_type": "code",
   "execution_count": null,
   "metadata": {
    "pycharm": {
     "name": "#%%\n"
    }
   },
   "outputs": [],
   "source": [
    "epoch = None\n",
    "model_path  = download_model(api_token,\n",
    "                             project_name=\"k-tonal/model-upload-test\",\n",
    "                             experiment_id=\"MOD-2\")\n",
    "fnet = FreqNet.load(FreqNet, model_path, epoch)"
   ]
  },
  {
   "cell_type": "markdown",
   "metadata": {},
   "source": [
    "## Generate"
   ]
  },
  {
   "cell_type": "code",
   "execution_count": null,
   "metadata": {
    "pycharm": {
     "name": "#%%\n"
    }
   },
   "outputs": [],
   "source": [
    "input_length = 64\n",
    "n_steps = 512\n",
    "# pick a random input slice from the trainset\n",
    "piece = db.metadata.iloc[[0, ]].sample(1)\n",
    "input_start = np.random.randint(piece.start.min(), piece.stop.max(), 1)[0]\n",
    "\n",
    "inpt = db.fft[input_start:input_start+input_length]\n",
    "\n",
    "if torch.cuda.is_available():\n",
    "    fnet.to(\"cuda\")\n",
    "\n",
    "generated = generate(fnet.eval(), inpt, n_steps, *fnet.generation_slices())\n",
    "\n",
    "audio(generated.T)\n",
    "show(generated.T)"
   ]
  },
  {
   "cell_type": "markdown",
   "metadata": {},
   "source": [
    "### Plot the latent variables (skips) for each layer"
   ]
  },
  {
   "cell_type": "code",
   "execution_count": null,
   "metadata": {
    "scrolled": false
   },
   "outputs": [],
   "source": [
    "from mmk.utils import numcpu, to_torch\n",
    "\n",
    "fnet = fnet.to(\"cuda\").eval()\n",
    "inpt, target = next(iter(fnet.dl))\n",
    "\n",
    "# helper func\n",
    "permute = lambda x: x.transpose(1, 2).contiguous()\n",
    "\n",
    "# modify the forward method to collect the latents\n",
    "with torch.no_grad():\n",
    "    latents = []\n",
    "    x = inpt.clone()\n",
    "    x = fnet.inpt(x)\n",
    "    latents += [permute(x.clone())]\n",
    "    skips = None\n",
    "    block = fnet.blocks[0]\n",
    "    for layer in block.block:\n",
    "        x, skips = block.layer_func(layer, x, skips)\n",
    "        latents += [permute(skips.clone())]\n",
    "    y = fnet.outpt(skips)\n",
    "    \n",
    "inpt = numcpu(inpt[0].squeeze()).T\n",
    "plt.figure()\n",
    "show(inpt, db_scale=True, title=\"input\")\n",
    "print(\"input:\")\n",
    "audio(inpt)\n",
    "\n",
    "latents = [numcpu(h[0].squeeze()).T for h in latents]\n",
    "\n",
    "for i, h in enumerate(latents):\n",
    "    plt.figure()\n",
    "    show(h, db_scale=False, title=\"latent_\" + str(i))\n",
    "\n",
    "    \n",
    "y = numcpu(y[0].squeeze()).T\n",
    "plt.figure()\n",
    "show(y, title=\"output\")\n",
    "print(\"output:\")\n",
    "audio(y)\n",
    "\n",
    "    \n",
    "target = numcpu(target[0].squeeze()).T[:, :y.shape[1]]\n",
    "plt.figure()\n",
    "show(target, title=\"target\")\n",
    "print(\"target:\")\n",
    "audio(target)"
   ]
  },
  {
   "cell_type": "code",
   "execution_count": null,
   "metadata": {},
   "outputs": [],
   "source": [
    "plt.plot(latents[1][:, [38,13]])"
   ]
  },
  {
   "cell_type": "code",
   "execution_count": null,
   "metadata": {
    "scrolled": true
   },
   "outputs": [],
   "source": [
    "X = latents[3]\n",
    "cov = np.zeros((512, 512))\n",
    "for t in range(X.shape[1]-1):\n",
    "    cov += np.cov(X[:, [t, t+1]])\n",
    "    \n",
    "show(cov, db_scale=False)\n",
    "plt.figure()\n",
    "show(np.cov(X), db_scale=False)"
   ]
  },
  {
   "cell_type": "code",
   "execution_count": null,
   "metadata": {},
   "outputs": [],
   "source": [
    "Wf = numcpu(fnet.inpt.fcg.weight.detach().T)\n",
    "Wg = numcpu(fnet.inpt.fcf.weight.detach().T)\n",
    "\n",
    "show(Wf, db_scale=False, title=\"filter components\")\n",
    "plt.figure()\n",
    "show(Wg, db_scale=False, title=\"gate components\")"
   ]
  },
  {
   "cell_type": "code",
   "execution_count": null,
   "metadata": {},
   "outputs": [],
   "source": [
    "plt.plot(np.linalg.norm(Wf, axis=0))\n",
    "plt.plot(np.linalg.norm(Wg, axis=0))"
   ]
  },
  {
   "cell_type": "code",
   "execution_count": null,
   "metadata": {},
   "outputs": [],
   "source": []
  },
  {
   "cell_type": "code",
   "execution_count": null,
   "metadata": {},
   "outputs": [],
   "source": []
  },
  {
   "cell_type": "code",
   "execution_count": null,
   "metadata": {},
   "outputs": [],
   "source": []
  },
  {
   "cell_type": "code",
   "execution_count": null,
   "metadata": {},
   "outputs": [],
   "source": []
  },
  {
   "cell_type": "code",
   "execution_count": null,
   "metadata": {},
   "outputs": [],
   "source": []
  },
  {
   "cell_type": "code",
   "execution_count": null,
   "metadata": {},
   "outputs": [],
   "source": []
  },
  {
   "cell_type": "code",
   "execution_count": null,
   "metadata": {},
   "outputs": [],
   "source": []
  },
  {
   "cell_type": "code",
   "execution_count": null,
   "metadata": {},
   "outputs": [],
   "source": []
  },
  {
   "cell_type": "code",
   "execution_count": null,
   "metadata": {},
   "outputs": [],
   "source": []
  },
  {
   "cell_type": "code",
   "execution_count": null,
   "metadata": {},
   "outputs": [],
   "source": []
  },
  {
   "cell_type": "code",
   "execution_count": null,
   "metadata": {},
   "outputs": [],
   "source": []
  },
  {
   "cell_type": "code",
   "execution_count": null,
   "metadata": {},
   "outputs": [],
   "source": []
  }
 ],
 "metadata": {
  "kernelspec": {
   "display_name": "Python 3",
   "language": "python",
   "name": "python3"
  },
  "language_info": {
   "codemirror_mode": {
    "name": "ipython",
    "version": 3
   },
   "file_extension": ".py",
   "mimetype": "text/x-python",
   "name": "python",
   "nbconvert_exporter": "python",
   "pygments_lexer": "ipython3",
   "version": "3.7.6"
  },
  "neptune": {
   "notebookId": "7b669e98-32d7-45a5-9e5d-9c25b3ec0259"
  },
  "pycharm": {
   "stem_cell": {
    "cell_type": "raw",
    "metadata": {
     "collapsed": false
    },
    "source": []
   }
  }
 },
 "nbformat": 4,
 "nbformat_minor": 4
}
